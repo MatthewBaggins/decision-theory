{
 "cells": [
  {
   "cell_type": "code",
   "execution_count": 41,
   "id": "2c117359",
   "metadata": {},
   "outputs": [],
   "source": [
    "import typing as typ\n",
    "\n",
    "import numpy as np\n",
    "\n",
    "from pgmpy.models import DiscreteBayesianNetwork\n",
    "from pgmpy.factors.discrete import TabularCPD\n",
    "from pgmpy.inference import VariableElimination\n",
    "\n",
    "# some X -> Actions -> Outcomes <- X\n",
    "model = DiscreteBayesianNetwork(\n",
    "    [\n",
    "        (\"X\", \"A\"), # X influences action \n",
    "        (\"X\", \"O\"), # X influences outcome\n",
    "        (\"A\", \"O\"), # action influences outcome\n",
    "    ]\n",
    ")\n",
    "\n",
    "cpd_X = TabularCPD(\n",
    "    variable=\"X\",\n",
    "    variable_card=2,\n",
    "    values=[[0.5], [0.5]]\n",
    ")\n",
    "\n",
    "# P(A|X)\n",
    "cpd_A = TabularCPD(\n",
    "    variable=\"A\",\n",
    "    variable_card=3,\n",
    "    evidence=[\"X\"],\n",
    "    evidence_card=[2],\n",
    "    # uniform if X=0, otherwise: P(A=0|X=1)=0.1, P(A=1|X=1)=0.3, P(A=2|X=1)=0.6\n",
    "    values=[\n",
    "        [1/3, 0.1],\n",
    "        [1/3, 0.3],\n",
    "        [1/3, 0.6],\n",
    "    ]\n",
    ")\n",
    "\n",
    "# P(O|X,A)\n",
    "cpd_O = TabularCPD(\n",
    "    variable=\"O\",\n",
    "    variable_card=3,\n",
    "    evidence=[\"X\", \"A\"],\n",
    "    evidence_card=[2, 3],\n",
    "    values=[\n",
    "        [1/3, 1/2, 1/4, 0.1, 0.05, 0.90],\n",
    "        [1/3, 1/2, 1/2, 0.1, 0.05, 0.05],\n",
    "        [1/3, 0.0, 1/4, 0.8, 0.90, 0.05],\n",
    "    ],\n",
    ")\n",
    "\n",
    "\n",
    "model.add_cpds(cpd_X, cpd_A, cpd_O)\n",
    "assert model.check_model()\n",
    "\n",
    "O_utility = np.array([10, 30, 20])"
   ]
  },
  {
   "cell_type": "markdown",
   "id": "f5410c22",
   "metadata": {},
   "source": [
    "## EDT"
   ]
  },
  {
   "cell_type": "code",
   "execution_count": null,
   "id": "73f2a5a3",
   "metadata": {},
   "outputs": [
    {
     "name": "stdout",
     "output_type": "stream",
     "text": [
      "[[0.27948718 0.27948718 0.44102564]\n",
      " [0.28684211 0.28684211 0.42631579]\n",
      " [0.66785714 0.21071429 0.12142857]]\n",
      "[20.         20.         15.42857143]\n",
      "best_action = 1\n",
      "best_action_value = 20.0\n"
     ]
    }
   ],
   "source": [
    "VERBOSE = True\n",
    "\n",
    "def edt(model: DiscreteBayesianNetwork, O_utility: np.ndarray, *, verbose: bool = False) -> tuple[int, float]: #TODO: decision theory result type or sth?\n",
    "    assert len(O_utility) == cpd_O.variable_card\n",
    "    infer = VariableElimination(model)\n",
    "    # O_probs = { \n",
    "    #     a: infer.query(variables=[\"O\"], evidence={\"A\": a}).values #type:ignore\n",
    "    #     for a in range(typ.cast(int, cpd_A.variable_card))\n",
    "    # }\n",
    "    # print(O_probs[0])\n",
    "    A_to_O_probs = np.array(\n",
    "        [infer.query(variables=[\"O\"], evidence={\"A\": a}).values #type:ignore\n",
    "        for a in range(typ.cast(int, cpd_A.variable_card))]\n",
    "    )\n",
    "    A_to_EU = A_to_O_probs @ O_utility\n",
    "    if verbose:\n",
    "        print(A_to_O_probs)\n",
    "        print(A_to_EU)\n",
    "    best_action = A_to_EU.argmax().item()\n",
    "    best_action_value = A_to_EU.max().item()\n",
    "    return best_action, best_action_value\n",
    "\n",
    "best_action, best_action_value = edt(model, O_utility, verbose=VERBOSE)\n",
    "print(f\"{best_action = }\")\n",
    "print(f\"{best_action_value = }\")"
   ]
  },
  {
   "cell_type": "markdown",
   "id": "d8478f0d",
   "metadata": {},
   "source": [
    "## CDT"
   ]
  },
  {
   "cell_type": "code",
   "execution_count": null,
   "id": "f2d0042e",
   "metadata": {},
   "outputs": [
    {
     "name": "stdout",
     "output_type": "stream",
     "text": [
      "[[0.21666667 0.21666667 0.56666667]\n",
      " [0.275      0.275      0.45      ]\n",
      " [0.575      0.275      0.15      ]]\n",
      "[20. 20. 17.]\n",
      "best_action = 0\n",
      "best_action_value = 20.0\n"
     ]
    }
   ],
   "source": [
    "def cdt(model: DiscreteBayesianNetwork, O_utility: np.ndarray, *, verbose: bool = False) -> tuple[int, float]:\n",
    "    assert len(O_utility) == cpd_O.variable_card #TODO: here and in cdt this does a check against a global variable that is assumed to have been used in defining model lol; FIX THIS!!!\n",
    "    A_card = typ.cast(int, cpd_A.variable_card)\n",
    "    O_card = typ.cast(int, cpd_O.variable_card)\n",
    "    A_to_O_probs = np.zeros((A_card, O_card))\n",
    "    for a in range(A_card):\n",
    "        do_model = DiscreteBayesianNetwork(model.edges())\n",
    "        do_model.remove_edges_from([(\"X\", \"A\")])\n",
    "        do_model_cpd_A = TabularCPD(\n",
    "            variable=\"A\",\n",
    "            variable_card=A_card, #TODO: FIX\n",
    "            values=[[1.0] if a == a_ else [0.0] for a_ in range(A_card)],\n",
    "        )\n",
    "        do_model.add_cpds(cpd_X, do_model_cpd_A, cpd_O)\n",
    "        assert do_model.check_model()\n",
    "        do_infer = VariableElimination(model=do_model)\n",
    "        result = do_infer.query(variables=[\"O\"], evidence={\"A\": a}).values #type: ignore\n",
    "        A_to_O_probs[a, :] = result #type:ignore\n",
    "    A_to_EU = A_to_O_probs @ O_utility\n",
    "    if verbose:\n",
    "        print(A_to_O_probs)\n",
    "        print(A_to_EU)\n",
    "    best_action = A_to_EU.argmax().item()\n",
    "    best_action_value = A_to_EU.max().item()\n",
    "    return best_action, best_action_value\n",
    "\n",
    "best_action, best_action_value = cdt(model, O_utility, verbose=VERBOSE)\n",
    "print(f\"{best_action = }\")\n",
    "print(f\"{best_action_value = }\")"
   ]
  },
  {
   "cell_type": "code",
   "execution_count": null,
   "id": "218fca6e",
   "metadata": {},
   "outputs": [],
   "source": []
  }
 ],
 "metadata": {
  "kernelspec": {
   "display_name": ".venv",
   "language": "python",
   "name": "python3"
  },
  "language_info": {
   "codemirror_mode": {
    "name": "ipython",
    "version": 3
   },
   "file_extension": ".py",
   "mimetype": "text/x-python",
   "name": "python",
   "nbconvert_exporter": "python",
   "pygments_lexer": "ipython3",
   "version": "3.12.7"
  }
 },
 "nbformat": 4,
 "nbformat_minor": 5
}
