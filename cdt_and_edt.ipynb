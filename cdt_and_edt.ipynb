{
 "cells": [
  {
   "cell_type": "code",
   "execution_count": 72,
   "id": "2c117359",
   "metadata": {},
   "outputs": [],
   "source": [
    "import typing as typ\n",
    "\n",
    "import numpy as np\n",
    "\n",
    "from pgmpy.models import DiscreteBayesianNetwork\n",
    "from pgmpy.factors.discrete import TabularCPD\n",
    "from pgmpy.inference import VariableElimination\n",
    "\n",
    "# some X -> Actions -> Outcomes <- X\n",
    "model = DiscreteBayesianNetwork(\n",
    "    [\n",
    "        (\"X\", \"A\"), # X influences action \n",
    "        (\"X\", \"O\"), # X influences outcome\n",
    "        (\"A\", \"O\"), # action influences outcome\n",
    "    ]\n",
    ")\n",
    "\n",
    "cpd_X = TabularCPD(\n",
    "    variable=\"X\",\n",
    "    variable_card=2,\n",
    "    values=[[0.5], [0.5]]\n",
    ")\n",
    "\n",
    "# P(A|X)\n",
    "cpd_A = TabularCPD(\n",
    "    variable=\"A\",\n",
    "    variable_card=3,\n",
    "    evidence=[\"X\"],\n",
    "    evidence_card=[2],\n",
    "    # uniform if X=0, otherwise: P(A=0|X=1)=0.1, P(A=1|X=1)=0.3, P(A=2|X=1)=0.6\n",
    "    values=[\n",
    "        [1/3, 0.1],\n",
    "        [1/3, 0.3],\n",
    "        [1/3, 0.6],\n",
    "    ]\n",
    ")\n",
    "\n",
    "# P(O|X,A)\n",
    "cpd_O = TabularCPD(\n",
    "    variable=\"O\",\n",
    "    variable_card=3,\n",
    "    evidence=[\"X\", \"A\"],\n",
    "    evidence_card=[2, 3],\n",
    "    values=[\n",
    "        [1/3, 1/6, 1/4, 0.1, 0.05, 0.90],\n",
    "        [1/3, 1/4, 1/2, 0.1, 0.05, 0.05],\n",
    "        [1/3, 7/12, 1/4, 0.8, 0.90, 0.05],\n",
    "    ],\n",
    ")\n",
    "\n",
    "\n",
    "model.add_cpds(cpd_X, cpd_A, cpd_O)\n",
    "assert model.check_model()\n",
    "\n",
    "O_utility = np.array([10, 30, 20])"
   ]
  },
  {
   "cell_type": "code",
   "execution_count": 73,
   "id": "e662b4f6",
   "metadata": {},
   "outputs": [],
   "source": [
    "class DecisionTheoryResult(typ.NamedTuple):\n",
    "    dt: str # cdt, edt, etc\n",
    "    A_to_O_probs: np.ndarray\n",
    "    A_to_EU: np.ndarray\n",
    "    best_action: int\n",
    "    best_action_EU: float\n",
    "\n",
    "def model_to_var_cards(model: DiscreteBayesianNetwork) -> dict[str, int]:\n",
    "    return {\n",
    "        cpd.variable: typ.cast(int, cpd.variable_card)\n",
    "        for cpd in typ.cast(list[TabularCPD], model.get_cpds())\n",
    "    }"
   ]
  },
  {
   "cell_type": "markdown",
   "id": "f5410c22",
   "metadata": {},
   "source": [
    "## EDT"
   ]
  },
  {
   "cell_type": "code",
   "execution_count": 74,
   "id": "73f2a5a3",
   "metadata": {},
   "outputs": [
    {
     "name": "stdout",
     "output_type": "stream",
     "text": [
      "edt_result.best_action = 1\n",
      "edt_result.best_action_EU = 20.438596491228072\n"
     ]
    }
   ],
   "source": [
    "def edt(model: DiscreteBayesianNetwork, O_utility: np.ndarray) -> DecisionTheoryResult:\n",
    "    var_cards = model_to_var_cards(model)\n",
    "    assert len(O_utility) == var_cards[\"O\"]\n",
    "    infer = VariableElimination(model)\n",
    "    A_to_O_probs = np.array(\n",
    "        [infer.query(variables=[\"O\"], evidence={\"A\": a}).values #type:ignore\n",
    "        for a in range(var_cards[\"A\"])]\n",
    "    )\n",
    "    A_to_EU = A_to_O_probs @ O_utility\n",
    "    best_action = A_to_EU.argmax().item()\n",
    "    best_action_EU = A_to_EU.max().item()\n",
    "    return DecisionTheoryResult(\n",
    "        \"edt\",\n",
    "        A_to_O_probs,\n",
    "        A_to_EU,\n",
    "        best_action,\n",
    "        best_action_EU\n",
    "    )\n",
    "\n",
    "edt_result = edt(model, O_utility)\n",
    "print(f\"{edt_result.best_action = }\")\n",
    "print(f\"{edt_result.best_action_EU = }\")"
   ]
  },
  {
   "cell_type": "markdown",
   "id": "d8478f0d",
   "metadata": {},
   "source": [
    "## CDT"
   ]
  },
  {
   "cell_type": "code",
   "execution_count": 75,
   "id": "f2d0042e",
   "metadata": {},
   "outputs": [
    {
     "name": "stdout",
     "output_type": "stream",
     "text": [
      "cdt_res.best_action = 1\n",
      "cdt_res.best_action_EU = 20.416666666666668\n"
     ]
    }
   ],
   "source": [
    "def cdt(model: DiscreteBayesianNetwork, O_utility: np.ndarray) -> DecisionTheoryResult:\n",
    "    var_cards = model_to_var_cards(model)\n",
    "    assert len(O_utility) == var_cards[\"O\"]\n",
    "    A_to_O_probs = np.zeros((var_cards[\"A\"], var_cards[\"O\"]))\n",
    "    for a in range(var_cards[\"A\"]):\n",
    "        do_model = DiscreteBayesianNetwork(model.edges())\n",
    "        do_model.remove_edges_from([(\"X\", \"A\")])\n",
    "        do_model_cpd_A = TabularCPD(\n",
    "            variable=\"A\",\n",
    "            variable_card=var_cards[\"A\"], #TODO: FIX\n",
    "            values=[[1.0] if a == a_ else [0.0] for a_ in range(var_cards[\"A\"])],\n",
    "        )\n",
    "        do_model.add_cpds(cpd_X, do_model_cpd_A, cpd_O)\n",
    "        assert do_model.check_model()\n",
    "        do_infer = VariableElimination(model=do_model)\n",
    "        result = do_infer.query(variables=[\"O\"], evidence={\"A\": a}).values #type: ignore\n",
    "        A_to_O_probs[a, :] = result #type:ignore\n",
    "    A_to_EU = A_to_O_probs @ O_utility\n",
    "    best_action = A_to_EU.argmax().item()\n",
    "    best_action_EU = A_to_EU.max().item()\n",
    "    return DecisionTheoryResult(\n",
    "        \"cdt\",\n",
    "        A_to_O_probs,\n",
    "        A_to_EU,\n",
    "        best_action,\n",
    "        best_action_EU\n",
    "    )\n",
    "\n",
    "cdt_res = cdt(model, O_utility)\n",
    "print(f\"{cdt_res.best_action = }\")\n",
    "print(f\"{cdt_res.best_action_EU = }\")"
   ]
  },
  {
   "cell_type": "code",
   "execution_count": null,
   "id": "218fca6e",
   "metadata": {},
   "outputs": [],
   "source": []
  }
 ],
 "metadata": {
  "kernelspec": {
   "display_name": ".venv",
   "language": "python",
   "name": "python3"
  },
  "language_info": {
   "codemirror_mode": {
    "name": "ipython",
    "version": 3
   },
   "file_extension": ".py",
   "mimetype": "text/x-python",
   "name": "python",
   "nbconvert_exporter": "python",
   "pygments_lexer": "ipython3",
   "version": "3.12.7"
  }
 },
 "nbformat": 4,
 "nbformat_minor": 5
}
