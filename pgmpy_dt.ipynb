{
 "cells": [
  {
   "cell_type": "code",
   "execution_count": 1,
   "id": "fbe3d84b",
   "metadata": {},
   "outputs": [
    {
     "name": "stderr",
     "output_type": "stream",
     "text": [
      "/home/matthewbaggins/code/decision-theory/.venv/lib/python3.12/site-packages/tqdm/auto.py:21: TqdmWarning: IProgress not found. Please update jupyter and ipywidgets. See https://ipywidgets.readthedocs.io/en/stable/user_install.html\n",
      "  from .autonotebook import tqdm as notebook_tqdm\n"
     ]
    },
    {
     "name": "stdout",
     "output_type": "stream",
     "text": [
      "+------+----------+\n",
      "| Y    |   phi(Y) |\n",
      "+======+==========+\n",
      "| Y(0) |   0.1545 |\n",
      "+------+----------+\n",
      "| Y(1) |   0.8455 |\n",
      "+------+----------+\n"
     ]
    }
   ],
   "source": [
    "from pgmpy.models import DiscreteBayesianNetwork\n",
    "from pgmpy.factors.discrete import TabularCPD\n",
    "from pgmpy.inference import VariableElimination\n",
    "\n",
    "# DAG: Z → X → Y, Z → Y\n",
    "model = DiscreteBayesianNetwork([('Z', 'X'), ('Z', 'Y'), ('X', 'Y')])\n",
    "\n",
    "# P(Z)\n",
    "cpd_Z = TabularCPD(\n",
    "    variable='Z',\n",
    "    variable_card=2,\n",
    "    values=[[0.6], [0.4]]\n",
    ")\n",
    "\n",
    "# P(X | Z)\n",
    "cpd_X = TabularCPD(\n",
    "    variable='X',\n",
    "    variable_card=2,\n",
    "    values=[[0.8, 0.2], # rows are values of X, columns are values of Z (both binary)\n",
    "            [0.2, 0.8]],\n",
    "    evidence=['Z'],\n",
    "    evidence_card=[2]\n",
    ")\n",
    "\n",
    "# P(Y | X, Z)\n",
    "cpd_Y = TabularCPD(\n",
    "    variable='Y',\n",
    "    variable_card=2,\n",
    "    values=[[0.9, 0.6, 0.3, 0.1], # rows are values of Y, columns are values of X×Z (lexicographically: 00, 01, 10, 11)\n",
    "            [0.1, 0.4, 0.7, 0.9]],\n",
    "    evidence=['X', 'Z'],\n",
    "    evidence_card=[2, 2]\n",
    ")\n",
    "\n",
    "# Add CPDs\n",
    "model.add_cpds(cpd_Z, cpd_X, cpd_Y)\n",
    "assert model.check_model()\n",
    "\n",
    "# Observational inference\n",
    "infer = VariableElimination(model)\n",
    "result = infer.query(variables=['Y'], evidence={'X': 1})\n",
    "print(result)\n"
   ]
  },
  {
   "cell_type": "code",
   "execution_count": null,
   "id": "c6543e12",
   "metadata": {},
   "outputs": [
    {
     "name": "stdout",
     "output_type": "stream",
     "text": [
      "+------+----------+\n",
      "| Y    |   phi(Y) |\n",
      "+======+==========+\n",
      "| Y(0) |   0.2200 |\n",
      "+------+----------+\n",
      "| Y(1) |   0.7800 |\n",
      "+------+----------+\n"
     ]
    }
   ],
   "source": [
    "# 🔪 Intervene: do(X = 1)\n",
    "# Step 1: Copy and modify the model\n",
    "do_model = DiscreteBayesianNetwork(model.edges())\n",
    "do_model.remove_edges_from([('Z', 'X')])  # Remove Z->X; results in: Z->Y->X\n",
    "\n",
    "# Step 2: Use same CPDs for Z and Y\n",
    "do_model.add_cpds(cpd_Z, cpd_Y)\n",
    "\n",
    "# Step 3: Replace CPD for X with a deterministic intervention: P(X=1) = 1\n",
    "do_cpd_X = TabularCPD(\n",
    "    variable='X', variable_card=2,\n",
    "    values=[[0.0], [1.0]]  # P(X=0)=0, P(X=1)=1\n",
    ")\n",
    "\n",
    "do_model.add_cpds(do_cpd_X)\n",
    "assert do_model.check_model()\n",
    "\n",
    "# Step 4: Inference\n",
    "do_infer = VariableElimination(do_model)\n",
    "result = do_infer.query(variables=['Y'])  # P(Y | do(X=1))\n",
    "print(result)\n"
   ]
  },
  {
   "cell_type": "code",
   "execution_count": null,
   "id": "bdce7434",
   "metadata": {},
   "outputs": [],
   "source": []
  }
 ],
 "metadata": {
  "kernelspec": {
   "display_name": ".venv",
   "language": "python",
   "name": "python3"
  },
  "language_info": {
   "codemirror_mode": {
    "name": "ipython",
    "version": 3
   },
   "file_extension": ".py",
   "mimetype": "text/x-python",
   "name": "python",
   "nbconvert_exporter": "python",
   "pygments_lexer": "ipython3",
   "version": "3.12.7"
  }
 },
 "nbformat": 4,
 "nbformat_minor": 5
}
