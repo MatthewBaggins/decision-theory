{
 "cells": [
  {
   "cell_type": "code",
   "execution_count": null,
   "id": "1bfc539c",
   "metadata": {},
   "outputs": [
    {
     "name": "stdout",
     "output_type": "stream",
     "text": [
      "[26. 15. 25.]\n",
      "best_action = 0\n",
      "best_action_value = 26.0\n"
     ]
    }
   ],
   "source": [
    "import typing as typ\n",
    "\n",
    "import numpy as np\n",
    "\n",
    "def agnostic_dt(action_to_outcome_prob: np.ndarray, outcome_to_utility: np.ndarray) -> tuple[int, float]:\n",
    "    assert (_:=action_to_outcome_prob.ndim) == 2, _\n",
    "    assert (_:=outcome_to_utility.ndim) == 1, _\n",
    "    assert (_:=action_to_outcome_prob.shape[1]) == (__:=len(outcome_to_utility)), (_, __)\n",
    "    assert ((_:=action_to_outcome_prob).sum(1) == 1).all(), _\n",
    "    action_to_expected_utility = action_to_outcome_prob @ outcome_to_utility\n",
    "    print(action_to_expected_utility)\n",
    "    best_action = action_to_expected_utility.argmax().item()\n",
    "    best_action_value = action_to_expected_utility.max().item()\n",
    "    return best_action, best_action_value\n",
    "\n",
    "A = np.array(\n",
    "    [\n",
    "        [.1, .2, .7],\n",
    "        [.5, .5, 0],\n",
    "        [.2, .1, .7]\n",
    "    ]\n",
    ")\n",
    "U = np.array([10, 20, 30])\n",
    "best_action, best_action_value = agnostic_dt(A, U)\n",
    "print(f\"{best_action = }\")\n",
    "print(f\"{best_action_value = }\")"
   ]
  },
  {
   "cell_type": "code",
   "execution_count": null,
   "id": "6ba64601",
   "metadata": {},
   "outputs": [],
   "source": []
  }
 ],
 "metadata": {
  "kernelspec": {
   "display_name": ".venv",
   "language": "python",
   "name": "python3"
  },
  "language_info": {
   "codemirror_mode": {
    "name": "ipython",
    "version": 3
   },
   "file_extension": ".py",
   "mimetype": "text/x-python",
   "name": "python",
   "nbconvert_exporter": "python",
   "pygments_lexer": "ipython3",
   "version": "3.12.7"
  }
 },
 "nbformat": 4,
 "nbformat_minor": 5
}
